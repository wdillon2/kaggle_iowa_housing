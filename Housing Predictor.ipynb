{
 "cells": [
  {
   "cell_type": "code",
   "execution_count": 2,
   "metadata": {
    "collapsed": true
   },
   "outputs": [],
   "source": [
    "import pandas as pd\n",
    "import seaborn as sns\n",
    "import numpy as np\n",
    "import matplotlib.pyplot as plt\n",
    "\n",
    "from sklearn.linear_model import Ridge, Lasso, ElasticNet, LinearRegression\n",
    "from sklearn.model_selection import KFold, GridSearchCV\n",
    "\n",
    "%matplotlib inline"
   ]
  },
  {
   "cell_type": "code",
   "execution_count": 61,
   "metadata": {
    "collapsed": true
   },
   "outputs": [],
   "source": [
    "def decade(year):\n",
    "    return str(year)[0:3] + '0'"
   ]
  },
  {
   "cell_type": "code",
   "execution_count": 244,
   "metadata": {
    "collapsed": true
   },
   "outputs": [],
   "source": [
    "def clean_data(csv):\n",
    "    df = pd.read_csv(csv, index_col='Id')\n",
    "    df.drop(['PoolQC'], axis=1, inplace=True)\n",
    "    for i in range(len(df.columns)):\n",
    "        if df.dtypes[i] == 'object':\n",
    "            df[df.columns[i]].fillna('NA',inplace=True)\n",
    "    for i in range(len(df.columns)):\n",
    "        if df.dtypes[i] == 'float64' or df.dtypes[i] == 'int64':\n",
    "            df[df.columns[i]].fillna(0, inplace=True)\n",
    "    for i in range(len(df.columns)):\n",
    "        if df.dtypes[i] == 'float64':\n",
    "            df[df.columns[i]] = df[df.columns[i]].astype(int)\n",
    "    obj_cols = []\n",
    "    for i in range(len(df.columns)):\n",
    "        if df.dtypes[i] == 'object':\n",
    "            obj_cols.append(df.columns[i])\n",
    "    years = df[['YearBuilt', 'YearRemodAdd', 'GarageYrBlt', 'YrSold']]\n",
    "    for column in years.columns:\n",
    "        df[column] = years[column].apply(decade)   \n",
    "    areas = ['LotFrontage', 'LotArea', 'MasVnrArea', 'BsmtFinSF1','BsmtFinSF2','BsmtUnfSF','TotalBsmtSF','1stFlrSF','2ndFlrSF',\n",
    "         'LowQualFinSF', 'GrLivArea','GarageArea','WoodDeckSF','OpenPorchSF','EnclosedPorch','3SsnPorch','PoolArea','MiscVal', 'ScreenPorch']\n",
    "    drop_cats = ['BsmtUnfSF', 'MSSubClass_30', 'MSSubClass_50', 'MSZoning_RL', 'Street_Pave',\n",
    "                 'Alley_Pave', 'LotShape_Reg', 'LandContour_Lvl', 'LotConfig_Inside', 'LandSlope_Gtl',\n",
    "                 'Condition1_PosN', 'Condition2_Norm', 'BldgType_1Fam', 'BldgType_Twnhs', 'OverallCond_6',\n",
    "                 'YearBuilt_1950', 'YearRemodAdd_2000', 'RoofStyle_Gable', 'Exterior2nd_Plywood',\n",
    "                 'MasVnrType_None', 'ExterQual_Gd', 'ExterCond_TA', 'Foundation_CBlock', 'BsmtQual_TA',\n",
    "                 'BsmtCond_TA', 'BsmtExposure_Mn', 'BsmtFinType2_Rec', 'HeatingQC_Gd', 'BsmtFullBath_0',\n",
    "                 'BsmtHalfBath_0', 'FullBath_1', 'BedroomAbvGr_2', 'KitchenAbvGr_0', 'KitchenQual_Gd',\n",
    "                 'TotRmsAbvGrd_4', 'Fireplaces_1', 'FireplaceQu_Gd', 'GarageType_Attchd', 'GarageYrBlt_00',\n",
    "                 'GarageYrBlt_1960', 'GarageFinish_Fin', 'GarageCars_2', 'PavedDrive_N', 'Fence_NA',\n",
    "                 'MoSold_12', 'YrSold_2010', 'SaleType_COD', 'SaleCondition_Family']\n",
    "    cat_and_rms = [check for check in df.columns if (check not in obj_cols and check not in years and check not in areas and check != 'SalePrice') ]\n",
    "    df_dum = pd.get_dummies(df,columns = [cols for cols in df.columns if (cols not in areas and cols != 'SalePrice')],drop_first=True)\n",
    "    for cat in drop_cats:\n",
    "        if cat in df_dum:\n",
    "            df_dum = df_dum.drop(cat, axis=1)\n",
    "    return df_dum\n",
    "    \n"
   ]
  },
  {
   "cell_type": "raw",
   "metadata": {
    "collapsed": false
   },
   "source": [
    "df = pd.read_csv('train.csv',index_col='Id')\n"
   ]
  },
  {
   "cell_type": "raw",
   "metadata": {
    "collapsed": false
   },
   "source": [
    "df.shape"
   ]
  },
  {
   "cell_type": "raw",
   "metadata": {
    "collapsed": false
   },
   "source": [
    "df.drop('PoolQC', axis=1, inplace=True)"
   ]
  },
  {
   "cell_type": "raw",
   "metadata": {
    "collapsed": false
   },
   "source": [
    "for i in range(len(df.columns)):\n",
    "    if df.dtypes[i] == 'object':\n",
    "        df[df.columns[i]].fillna('NA',inplace=True)"
   ]
  },
  {
   "cell_type": "raw",
   "metadata": {
    "collapsed": true
   },
   "source": [
    "for i in range(len(df.columns)):\n",
    "    if df.dtypes[i] == 'float64' or df.dtypes[i] == 'int64':\n",
    "        df[df.columns[i]].fillna(0, inplace=True)"
   ]
  },
  {
   "cell_type": "raw",
   "metadata": {
    "collapsed": false
   },
   "source": [
    "df.shape"
   ]
  },
  {
   "cell_type": "raw",
   "metadata": {
    "collapsed": false
   },
   "source": [
    "obj_cols = []\n",
    "for i in range(len(df.columns)):\n",
    "    if df.dtypes[i] == 'object':\n",
    "        obj_cols.append(df.columns[i])\n",
    "print obj_cols"
   ]
  },
  {
   "cell_type": "raw",
   "metadata": {
    "collapsed": false
   },
   "source": [
    "years = df[['YearBuilt', 'YearRemodAdd', 'GarageYrBlt', 'YrSold']]"
   ]
  },
  {
   "cell_type": "raw",
   "metadata": {},
   "source": [
    "def decade(year):\n",
    "    return str(year)[0:3] + '0'"
   ]
  },
  {
   "cell_type": "raw",
   "metadata": {},
   "source": [
    "for column in years.columns:\n",
    "    df[column] = years[column].apply(decade)"
   ]
  },
  {
   "cell_type": "raw",
   "metadata": {},
   "source": [
    "areas = ['LotFrontage', 'LotArea', 'MasVnrArea', 'BsmtFinSF1','BsmtFinSF2','BsmtUnfSF','TotalBsmtSF','1stFlrSF','2ndFlrSF',\n",
    "         'LowQualFinSF', 'GrLivArea','GarageArea','WoodDeckSF','OpenPorchSF','EnclosedPorch','3SsnPorch','PoolArea','MiscVal']"
   ]
  },
  {
   "cell_type": "raw",
   "metadata": {},
   "source": [
    "cat_and_rms = [check for check in df.columns if (check not in obj_cols and check not in years and check not in areas and check != 'SalePrice') ]\n",
    "print cat_and_rms"
   ]
  },
  {
   "cell_type": "raw",
   "metadata": {},
   "source": [
    "df_dum = pd.get_dummies(df,columns = [cols for cols in df.columns if (cols not in areas and cols != 'SalePrice')])\n",
    "df_dum.shape"
   ]
  },
  {
   "cell_type": "code",
   "execution_count": 245,
   "metadata": {
    "collapsed": false
   },
   "outputs": [
    {
     "data": {
      "text/plain": [
       "(1460, 316)"
      ]
     },
     "execution_count": 245,
     "metadata": {},
     "output_type": "execute_result"
    }
   ],
   "source": [
    "train_df = clean_data('train.csv')\n",
    "train_df.shape"
   ]
  },
  {
   "cell_type": "code",
   "execution_count": 246,
   "metadata": {
    "collapsed": false
   },
   "outputs": [
    {
     "name": "stdout",
     "output_type": "stream",
     "text": [
      "(1459, 308)\n"
     ]
    }
   ],
   "source": [
    "test_df = clean_data('test.csv')\n",
    "print test_df.shape"
   ]
  },
  {
   "cell_type": "code",
   "execution_count": 1,
   "metadata": {
    "collapsed": false
   },
   "outputs": [
    {
     "ename": "NameError",
     "evalue": "name 'Lasso' is not defined",
     "output_type": "error",
     "traceback": [
      "\u001b[0;31m---------------------------------------------------------------------------\u001b[0m",
      "\u001b[0;31mNameError\u001b[0m                                 Traceback (most recent call last)",
      "\u001b[0;32m<ipython-input-1-91e4b27b69dc>\u001b[0m in \u001b[0;36m<module>\u001b[0;34m()\u001b[0m\n\u001b[0;32m----> 1\u001b[0;31m \u001b[0mLasso\u001b[0m\u001b[1;33m(\u001b[0m\u001b[1;33m)\u001b[0m\u001b[1;33m\u001b[0m\u001b[0m\n\u001b[0m",
      "\u001b[0;31mNameError\u001b[0m: name 'Lasso' is not defined"
     ]
    }
   ],
   "source": [
    "Lasso()"
   ]
  },
  {
   "cell_type": "code",
   "execution_count": 247,
   "metadata": {
    "collapsed": false
   },
   "outputs": [
    {
     "data": {
      "text/plain": [
       "(1460, 294)"
      ]
     },
     "execution_count": 247,
     "metadata": {},
     "output_type": "execute_result"
    }
   ],
   "source": [
    "train_df = train_df.drop([c for c in train_df.columns if c not in test_df.columns][1:], axis = 1)\n",
    "train_df.shape"
   ]
  },
  {
   "cell_type": "code",
   "execution_count": 248,
   "metadata": {
    "collapsed": false
   },
   "outputs": [
    {
     "data": {
      "text/plain": [
       "(1459, 293)"
      ]
     },
     "execution_count": 248,
     "metadata": {},
     "output_type": "execute_result"
    }
   ],
   "source": [
    "test_df = test_df.drop([c for c in test_df.columns if c not in train_df.columns],axis = 1)\n",
    "test_df.shape"
   ]
  },
  {
   "cell_type": "code",
   "execution_count": 249,
   "metadata": {
    "collapsed": false
   },
   "outputs": [
    {
     "data": {
      "text/plain": [
       "(1460L, 293L)"
      ]
     },
     "execution_count": 249,
     "metadata": {},
     "output_type": "execute_result"
    }
   ],
   "source": [
    "from sklearn.preprocessing import StandardScaler\n",
    "target = 'SalePrice'\n",
    "features = [c for c in train_df.columns if c != target]\n",
    "\n",
    "y_train = train_df[target]\n",
    "\n",
    "ss= StandardScaler()\n",
    "X_train = ss.fit_transform(train_df[features])\n",
    "X_train.shape"
   ]
  },
  {
   "cell_type": "code",
   "execution_count": 250,
   "metadata": {
    "collapsed": false
   },
   "outputs": [
    {
     "name": "stdout",
     "output_type": "stream",
     "text": [
      "0.820563449805\n",
      "{'alpha': 1096.985797892384}\n"
     ]
    }
   ],
   "source": [
    "kf = KFold(n_splits=20, shuffle=True, random_state=2008)\n",
    "ridge = Ridge()\n",
    "params = {'alpha': np.logspace(-1, 5, 20)}\n",
    "rgs = GridSearchCV(ridge, param_grid = params, scoring='r2', cv=kf)\n",
    "rgs.fit(X_train,y_train)\n",
    "print rgs.best_score_\n",
    "print rgs.best_params_"
   ]
  },
  {
   "cell_type": "code",
   "execution_count": 135,
   "metadata": {
    "collapsed": false
   },
   "outputs": [
    {
     "name": "stdout",
     "output_type": "stream",
     "text": [
      "0.768963462487\n",
      "{'alpha': 5.0}\n"
     ]
    }
   ],
   "source": [
    "kf = KFold(n_splits=10, shuffle=True, random_state=2003)\n",
    "lasso = Lasso()\n",
    "params = {'alpha': np.linspace(0,5,20)}\n",
    "lgs = GridSearchCV(lasso, param_grid = params, scoring='r2', cv=kf)\n",
    "lgs.fit(X_train,y_train)\n",
    "print lgs.best_score_\n",
    "print lgs.best_params_"
   ]
  },
  {
   "cell_type": "code",
   "execution_count": 162,
   "metadata": {
    "collapsed": false
   },
   "outputs": [
    {
     "name": "stdout",
     "output_type": "stream",
     "text": [
      "0.833200196245\n",
      "{'alpha': 4.4736842105263159, 'l1_ratio': 0.79375000000000007}\n"
     ]
    }
   ],
   "source": [
    "kf = KFold(n_splits=20, shuffle=True, random_state=2008)\n",
    "enet = ElasticNet()\n",
    "params = {'alpha': np.linspace(0,5,20),\n",
    "          'l1_ratio' : np.linspace(0.01,1.0,25)}\n",
    "engs = GridSearchCV(enet, param_grid = params, scoring='r2', cv=kf)\n",
    "engs.fit(X_train,y_train)\n",
    "print engs.best_score_\n",
    "print engs.best_params_"
   ]
  },
  {
   "cell_type": "code",
   "execution_count": 251,
   "metadata": {
    "collapsed": false
   },
   "outputs": [
    {
     "data": {
      "text/plain": [
       "(1459L, 293L)"
      ]
     },
     "execution_count": 251,
     "metadata": {},
     "output_type": "execute_result"
    }
   ],
   "source": [
    "X_test = ss.transform(test_df[features])\n",
    "X_test.shape"
   ]
  },
  {
   "cell_type": "code",
   "execution_count": 252,
   "metadata": {
    "collapsed": false
   },
   "outputs": [
    {
     "data": {
      "text/plain": [
       "(1459L,)"
      ]
     },
     "execution_count": 252,
     "metadata": {},
     "output_type": "execute_result"
    }
   ],
   "source": [
    "x = rgs.predict(X_test)\n",
    "test_df['SalePrice'] = x\n",
    "x.shape"
   ]
  },
  {
   "cell_type": "code",
   "execution_count": 255,
   "metadata": {
    "collapsed": false
   },
   "outputs": [],
   "source": [
    "test_df[['SalePrice']].to_csv('sub8.csv')"
   ]
  },
  {
   "cell_type": "code",
   "execution_count": 253,
   "metadata": {
    "collapsed": false
   },
   "outputs": [
    {
     "data": {
      "text/plain": [
       "104488.3766651606"
      ]
     },
     "execution_count": 253,
     "metadata": {},
     "output_type": "execute_result"
    }
   ],
   "source": [
    "from sklearn.metrics import mean_squared_error\n",
    "from math import sqrt\n",
    "\n",
    "rms_s2 = sqrt(mean_squared_error(y_train[:-1], rgs.predict(X_test)))\n",
    "rms_s2"
   ]
  },
  {
   "cell_type": "code",
   "execution_count": 215,
   "metadata": {
    "collapsed": false
   },
   "outputs": [],
   "source": [
    "lasso = Lasso(lgs.best_params_['alpha'])"
   ]
  },
  {
   "cell_type": "code",
   "execution_count": 223,
   "metadata": {
    "collapsed": false
   },
   "outputs": [],
   "source": [
    "lasso.fit(X_train,y_train)\n",
    "lasso_coefs = pd.DataFrame({'predictor' : features,\n",
    "                            'coefs' : lasso.coef_,})\n",
    "drop_cats = lasso_coefs.loc[lasso_coefs['coefs'] == 0,'predictor']"
   ]
  },
  {
   "cell_type": "code",
   "execution_count": 226,
   "metadata": {
    "collapsed": false
   },
   "outputs": [],
   "source": [
    "drop_cats = [x for x in drop_cats]"
   ]
  },
  {
   "cell_type": "code",
   "execution_count": 228,
   "metadata": {
    "collapsed": false
   },
   "outputs": [
    {
     "name": "stdout",
     "output_type": "stream",
     "text": [
      "['BsmtUnfSF', 'MSSubClass_30', 'MSSubClass_50', 'MSZoning_RL', 'Street_Pave', 'Alley_Pave', 'LotShape_Reg', 'LandContour_Lvl', 'LotConfig_Inside', 'LandSlope_Gtl', 'Condition1_PosN', 'Condition2_Norm', 'BldgType_1Fam', 'BldgType_Twnhs', 'OverallCond_6', 'YearBuilt_1950', 'YearRemodAdd_2000', 'RoofStyle_Gable', 'Exterior2nd_Plywood', 'MasVnrType_None', 'ExterQual_Gd', 'ExterCond_TA', 'Foundation_CBlock', 'BsmtQual_TA', 'BsmtCond_TA', 'BsmtExposure_Mn', 'BsmtFinType2_Rec', 'HeatingQC_Gd', 'BsmtFullBath_0', 'BsmtHalfBath_0', 'FullBath_1', 'BedroomAbvGr_2', 'KitchenAbvGr_0', 'KitchenQual_Gd', 'TotRmsAbvGrd_4', 'Fireplaces_1', 'FireplaceQu_Gd', 'GarageType_Attchd', 'GarageYrBlt_00', 'GarageYrBlt_1960', 'GarageFinish_Fin', 'GarageCars_2', 'PavedDrive_N', 'Fence_NA', 'MoSold_12', 'YrSold_2010', 'SaleType_COD', 'SaleCondition_Family']\n"
     ]
    }
   ],
   "source": [
    "print drop_cats"
   ]
  },
  {
   "cell_type": "code",
   "execution_count": 232,
   "metadata": {
    "collapsed": false
   },
   "outputs": [
    {
     "data": {
      "text/plain": [
       "True"
      ]
     },
     "execution_count": 232,
     "metadata": {},
     "output_type": "execute_result"
    }
   ],
   "source": [
    "'LotFrontage' in test_df"
   ]
  },
  {
   "cell_type": "code",
   "execution_count": null,
   "metadata": {
    "collapsed": true
   },
   "outputs": [],
   "source": []
  }
 ],
 "metadata": {
  "kernelspec": {
   "display_name": "Python 2",
   "language": "python",
   "name": "python2"
  },
  "language_info": {
   "codemirror_mode": {
    "name": "ipython",
    "version": 2
   },
   "file_extension": ".py",
   "mimetype": "text/x-python",
   "name": "python",
   "nbconvert_exporter": "python",
   "pygments_lexer": "ipython2",
   "version": "2.7.13"
  }
 },
 "nbformat": 4,
 "nbformat_minor": 2
}
